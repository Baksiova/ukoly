{
 "cells": [
  {
   "cell_type": "markdown",
   "id": "a96240a3",
   "metadata": {},
   "source": [
    "# Otázka 1: U jakého produktu je nejlepší poměr prokliků ku zobrazení?\n"
   ]
  },
  {
   "cell_type": "code",
   "execution_count": 1,
   "id": "626ab587",
   "metadata": {},
   "outputs": [],
   "source": [
    "import pandas as pd\n",
    "#nacteni dat, stplce uz boli upravene v konvertovanom Exceli\n",
    "df_clicks= pd.read_excel(\"~/clicks2.xlsx\",  header = 0)\n",
    "df_imp = pd.read_excel(\"~/impressions2.xlsx\",header = 0)\n"
   ]
  },
  {
   "cell_type": "code",
   "execution_count": 2,
   "id": "b3ff91b2",
   "metadata": {},
   "outputs": [],
   "source": [
    "#v productId sa nachadzaju prazdne hodnoty, tak ich odstranim\n",
    "df_clicks_clean=df_clicks[df_clicks[\"productId\"] != \"\\\\N\"]\n",
    "df_imp_clean=df_imp[df_imp[\"productId\"] != \"\\\\N\" ]"
   ]
  },
  {
   "cell_type": "code",
   "execution_count": 4,
   "id": "c5d4dcff",
   "metadata": {},
   "outputs": [
    {
     "name": "stdout",
     "output_type": "stream",
     "text": [
      "userId          0\n",
      "time            0\n",
      "productId       0\n",
      "availability    0\n",
      "pos             0\n",
      "proklik         0\n",
      "                0\n",
      "dtype: int64 \n",
      "\n",
      "userId             0\n",
      "time               0\n",
      "productId          0\n",
      "category_name    438\n",
      "offers             0\n",
      "zobrazeni          0\n",
      "Unnamed: 6         0\n",
      "dtype: int64\n"
     ]
    }
   ],
   "source": [
    "#skontrolujem nulove hodnoty\n",
    "null_click=df_clicks.isnull().sum()\n",
    "null_imp =df_imp.isnull().sum()\n",
    "print(null_click, \"\\n\")\n",
    "\n",
    "print(null_imp)\n"
   ]
  },
  {
   "cell_type": "code",
   "execution_count": 5,
   "id": "130052f3",
   "metadata": {},
   "outputs": [
    {
     "name": "stderr",
     "output_type": "stream",
     "text": [
      "/var/folders/6z/ncy_wsd14d118qw59ml4rfb00000gn/T/ipykernel_64420/3975248715.py:4: SettingWithCopyWarning: \n",
      "A value is trying to be set on a copy of a slice from a DataFrame.\n",
      "Try using .loc[row_indexer,col_indexer] = value instead\n",
      "\n",
      "See the caveats in the documentation: https://pandas.pydata.org/pandas-docs/stable/user_guide/indexing.html#returning-a-view-versus-a-copy\n",
      "  df_clicks_clean[\"userId\"] = df_clicks_clean[\"userId\"].astype(str)\n"
     ]
    },
    {
     "name": "stdout",
     "output_type": "stream",
     "text": [
      "                   userId  proklik  zobrazeni  ratio\n",
      "4674  6390190443848450048       12          3    4.0\n"
     ]
    }
   ],
   "source": [
    "#ratam pomer proklikov/zobrazeni, nezalezi, jestli mergujem na zaklade productId nebo userId, vzdy ma odkazuje na ten samy produkt\n",
    "\n",
    "#po predchadzujec chybe kovnertujem na string\n",
    "df_clicks_clean[\"userId\"] = df_clicks_clean[\"userId\"].astype(str)\n",
    "df_imp_clean[\"userId\"] = df_imp_clean[\"userId\"].astype(str)\n",
    "\n",
    "#mergujem\n",
    "merged_df = pd.merge(df_clicks_clean, df_imp_clean, on=\"userId\", suffixes=(\"_click\", \"_imp\"))\n",
    "\n",
    "#groupujem\n",
    "grouped_df = merged_df.groupby(\"userId\").agg({\"proklik\": \"sum\", \"zobrazeni\": \"sum\"}).reset_index()\n",
    "\n",
    "#pocitam pomer\n",
    "grouped_df[\"ratio\"] = grouped_df[\"proklik\"] / grouped_df[\"zobrazeni\"]\n",
    "\n",
    "# najvacsi pomer\n",
    "best_ratio_product = grouped_df[grouped_df[\"ratio\"] == grouped_df[\"ratio\"].max()]\n",
    "print(best_ratio_product)"
   ]
  },
  {
   "cell_type": "markdown",
   "id": "89116fa6",
   "metadata": {},
   "source": [
    "# Otazka 2 Která produktová kategorie je nejproklikávanější a která nejzobrazovanější?"
   ]
  },
  {
   "cell_type": "code",
   "execution_count": 7,
   "id": "11e76741",
   "metadata": {},
   "outputs": [
    {
     "name": "stdout",
     "output_type": "stream",
     "text": [
      "        category_name  zobrazeni\n",
      "870  Mobilní telefony       1852\n"
     ]
    }
   ],
   "source": [
    "#u zobrazeni je to jednoduche, pretoze sa stplce nachadzaju v jednej tabulke\n",
    "group_zobrazeni = df_imp.groupby('category_name')['zobrazeni'].sum().reset_index()\n",
    "\n",
    "highest_impressions = group_zobrazeni[group_zobrazeni['zobrazeni'] == group_zobrazeni['zobrazeni'].max()]\n",
    "\n",
    "print(highest_impressions)"
   ]
  },
  {
   "cell_type": "code",
   "execution_count": 9,
   "id": "23fea857",
   "metadata": {},
   "outputs": [
    {
     "name": "stdout",
     "output_type": "stream",
     "text": [
      "1782\n"
     ]
    }
   ],
   "source": [
    "#u proklikov je potreba zmergovat tabulky, mergujem na zaklade userId, vysledok koreluje s vysledkom poctu zobrazeni u kategorie mobilnich telefonu\n",
    "merged_df = pd.merge(df_clicks, df_imp, on='userId', how='inner')\n",
    "\n",
    "merged_df['commonuser'] = merged_df['userId']\n",
    "\n",
    "output_file_path = 'merged_data3.xlsx'  \n",
    "merged_df.to_excel(output_file_path, index=False)\n",
    "\n",
    "#groupujem v novej tabulke na zaklade userId\n",
    "df_merged = pd.read_excel(\"~/merged_data3.xlsx\", header=0)\n",
    "df_merged.drop_duplicates(inplace=True)\n",
    "\n",
    "specific_category = \"Mobilní telefony\"  \n",
    "filtered_df = df_merged[df_merged['category_name'] == specific_category]\n",
    "\n",
    "total_proklik = filtered_df['proklik'].sum()\n",
    "\n",
    "print(total_proklik)\n"
   ]
  },
  {
   "cell_type": "markdown",
   "id": "0d0ef843",
   "metadata": {},
   "source": [
    "# Otázka 3: Má počet nabídek produktu nějaký vliv na jeho proklikovost?\n",
    "    "
   ]
  },
  {
   "cell_type": "code",
   "execution_count": 13,
   "id": "0048ec67",
   "metadata": {},
   "outputs": [
    {
     "name": "stdout",
     "output_type": "stream",
     "text": [
      "The correlation between proklik and offers is: 0.009664515082090068\n"
     ]
    }
   ],
   "source": [
    "df = pd.read_excel(\"~/merged_data3.xlsx\", header=0)\n",
    "\n",
    "column1 = 'proklik'  \n",
    "column2 = 'offers' \n",
    "\n",
    "correlation = df[[column1, column2]].corr().iloc[0, 1]\n",
    "\n",
    "print(f\"The correlation between {column1} and {column2} is: {correlation}\")"
   ]
  },
  {
   "cell_type": "markdown",
   "id": "3c00d6a0",
   "metadata": {},
   "source": [
    "# Otázka 4: Jaké další zajímavé otázky vás nad danou datovou sadou napadají?"
   ]
  },
  {
   "cell_type": "markdown",
   "id": "9fb01228",
   "metadata": {},
   "source": [
    "1.Ktorá kategória má najväčší rozdiel medzi zobrazeniami a preklikmi?\n",
    "2.Má pozícia vplyv na zobrazenia, prekliky?\n",
    "3.V ktorú hodinu je najviac zobrazení a preklikov?\n",
    "4.Má dostupnosť tovaru vplyv na zobrazenia a prekliky?\n",
    "5.Ktorá kategória je najmenej/najviac dostupná?\n",
    "6.Ktorá kategória má najlepšiu/najhoršiu pozíciu?\n",
    "Je možné, že by sa dal urobiť nejaký ML clusterový model, kde by sa dali nájsť vzájomné vzťahy pomocou klaustrov?\n"
   ]
  },
  {
   "cell_type": "code",
   "execution_count": null,
   "id": "5502f1e5",
   "metadata": {},
   "outputs": [],
   "source": []
  }
 ],
 "metadata": {
  "kernelspec": {
   "display_name": "Python 3 (ipykernel)",
   "language": "python",
   "name": "python3"
  },
  "language_info": {
   "codemirror_mode": {
    "name": "ipython",
    "version": 3
   },
   "file_extension": ".py",
   "mimetype": "text/x-python",
   "name": "python",
   "nbconvert_exporter": "python",
   "pygments_lexer": "ipython3",
   "version": "3.11.5"
  }
 },
 "nbformat": 4,
 "nbformat_minor": 5
}
